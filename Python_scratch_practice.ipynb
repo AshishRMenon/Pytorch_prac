{
 "cells": [
  {
   "cell_type": "code",
   "execution_count": 15,
   "metadata": {},
   "outputs": [],
   "source": [
    "class testclass:\n",
    "    def __init__(self,mandatory):\n",
    "        self.name=mandatory\n",
    "        self.age=25\n",
    "        self.type=[type(self.name),type(self.age)]\n",
    "    def changeage(self,age):\n",
    "        print('Age changed from default {} to {}'.format(self.age,age))\n",
    "        \n",
    "        "
   ]
  },
  {
   "cell_type": "code",
   "execution_count": 34,
   "metadata": {},
   "outputs": [
    {
     "name": "stdout",
     "output_type": "stream",
     "text": [
      "Age changed from default 25 to 35\n"
     ]
    },
    {
     "data": {
      "text/plain": [
       "[str, int]"
      ]
     },
     "execution_count": 34,
     "metadata": {},
     "output_type": "execute_result"
    }
   ],
   "source": [
    "A=testclass('ashish')\n",
    "A.changeage(35)\n",
    "A.type"
   ]
  },
  {
   "cell_type": "code",
   "execution_count": 54,
   "metadata": {},
   "outputs": [
    {
     "name": "stdout",
     "output_type": "stream",
     "text": [
      "Age changed from default 80 to 50\n",
      "Age changed from default 35 to 45\n",
      "Age changed from default 17 to 5\n"
     ]
    }
   ],
   "source": [
    "A=testclass('ashish')\n",
    "testclass('xyz')\n",
    "y=testclass('abc')\n",
    "\n",
    "A.age=35\n",
    "testclass.age=80\n",
    "y.age=17\n",
    "\n",
    "testclass.changeage(testclass,50)\n",
    "A.changeage(45)\n",
    "y.changeage(5)\n",
    "\n"
   ]
  },
  {
   "cell_type": "markdown",
   "metadata": {},
   "source": [
    "# Get_item Set_item\n"
   ]
  },
  {
   "cell_type": "code",
   "execution_count": 68,
   "metadata": {},
   "outputs": [
    {
     "name": "stdout",
     "output_type": "stream",
     "text": [
      "Hi, I am Ashish\n",
      "Hi, I am Deepak\n"
     ]
    }
   ],
   "source": [
    "class Random_class():\n",
    "    def __init__(self,name=None):\n",
    "        self.name=name\n",
    "    def set_name(self,mod_name):\n",
    "        self.name=mod_name\n",
    "    def get_name(self):\n",
    "        return self.name\n",
    "    def say_hi(self):\n",
    "        if self.name:\n",
    "            print('Hi, I am {}'.format(self.name))\n",
    "        else:\n",
    "            print('Hi, A man has no name')\n",
    "\n",
    "x=Random_class('Ashish')\n",
    "x.say_hi()\n",
    "x.set_name('Deepak')\n",
    "x.say_hi()"
   ]
  },
  {
   "cell_type": "markdown",
   "metadata": {},
   "source": [
    "# EVAL"
   ]
  },
  {
   "cell_type": "code",
   "execution_count": 9,
   "metadata": {},
   "outputs": [],
   "source": [
    "from math import *\n",
    "\n",
    "def dummy_fun():\n",
    "    return 12345\n",
    "def function_eval():\n",
    "    expr = input('Enter the expression for x')\n",
    "    x = int(input('Value of x'))\n",
    "    y = eval(expr,x)\n",
    "    return y\n",
    "if __name__ == \"__main__\":\n",
    "    function_eval"
   ]
  },
  {
   "cell_type": "code",
   "execution_count": 15,
   "metadata": {},
   "outputs": [
    {
     "data": {
      "text/plain": [
       "60"
      ]
     },
     "execution_count": 15,
     "metadata": {},
     "output_type": "execute_result"
    }
   ],
   "source": [
    "expr= str(x*(x+1)*(x+2))\n",
    "x=3\n",
    "y=eval(expr)\n",
    "y"
   ]
  },
  {
   "cell_type": "code",
   "execution_count": 37,
   "metadata": {},
   "outputs": [
    {
     "ename": "SyntaxError",
     "evalue": "unexpected EOF while parsing (<ipython-input-37-678e00a89246>, line 7)",
     "output_type": "error",
     "traceback": [
      "\u001b[0;36m  File \u001b[0;32m\"<ipython-input-37-678e00a89246>\"\u001b[0;36m, line \u001b[0;32m7\u001b[0m\n\u001b[0;31m    \u001b[0m\n\u001b[0m    ^\u001b[0m\n\u001b[0;31mSyntaxError\u001b[0m\u001b[0;31m:\u001b[0m unexpected EOF while parsing\n"
     ]
    }
   ],
   "source": [
    "class Robot():\n",
    "    def __init__(self,name,year_reqd):\n",
    "        self.name=name\n",
    "        self.year=year_reqd\n",
    "    def __str__(self):\n",
    "        return Robot(self.name + \" ', \" + str(self.year)\n",
    "        "
   ]
  },
  {
   "cell_type": "code",
   "execution_count": 36,
   "metadata": {},
   "outputs": [
    {
     "name": "stdout",
     "output_type": "stream",
     "text": [
      "Robot(' ashish ', 1995)\n"
     ]
    }
   ],
   "source": [
    "x=Robot('ashish',1995)\n",
    "x_str = str(x)\n",
    "print(x_str)"
   ]
  },
  {
   "cell_type": "code",
   "execution_count": 29,
   "metadata": {},
   "outputs": [
    {
     "name": "stdout",
     "output_type": "stream",
     "text": [
      "Robot('Marvin', 1979)\n",
      "Type of x_str:  <class 'str'>\n",
      "Robot('Marvin', 1979)\n",
      "Type of new: <class '__main__.Robot'>\n"
     ]
    }
   ],
   "source": [
    "class Robot:\n",
    "\n",
    "    def __init__(self, name, build_year):\n",
    "        self.name = name\n",
    "        self.build_year = build_year\n",
    "\n",
    "    def __repr__(self):\n",
    "        return \"Robot('\" + self.name + \"', \" +  str(self.build_year) +  \")\"\n",
    "     \n",
    "x = Robot(\"Marvin\", 1979)\n",
    "\n",
    "x_str = str(x)\n",
    "print(x_str)\n",
    "print(\"Type of x_str: \", type(x_str))\n",
    "new = eval(x_str) \n",
    "print(new)\n",
    "print(\"Type of new:\", type(new))"
   ]
  },
  {
   "cell_type": "code",
   "execution_count": 7,
   "metadata": {},
   "outputs": [
    {
     "data": {
      "image/png": "[encoded data removed]",
      "text/plain": [
       "<Figure size 432x288 with 1 Axes>"
      ]
     },
     "metadata": {
      "needs_background": "light"
     },
     "output_type": "display_data"
    }
   ],
   "source": [
    "x= [i for i in range(10)]\n",
    "y= [i*i for i in range(10)]\n",
    "from matplotlib import pyplot as plt\n",
    "plt.plot(x,y)\n",
    "plt.savefig('X_Y.jpg')"
   ]
  },
  {
   "cell_type": "markdown",
   "metadata": {},
   "source": [
    "# Only using __repr__ in the class"
   ]
  },
  {
   "cell_type": "code",
   "execution_count": 21,
   "metadata": {},
   "outputs": [
    {
     "name": "stdout",
     "output_type": "stream",
     "text": [
      "Robot ('ashish',1995 )\n",
      "<class 'str'>\n",
      " \n",
      "Robot ('ashish',1995 )\n",
      "<class '__main__.Robot'>\n"
     ]
    }
   ],
   "source": [
    "class Robot:\n",
    "    def __init__(self, name, year):\n",
    "        self.name=name\n",
    "        self.year=year\n",
    "    def __repr__(self):\n",
    "        return \"Robot ('\" + self.name + \"',\" + str(self.year)+ \" )\"\n",
    "\n",
    "x=Robot('ashish',1995)\n",
    "x_str=str(x)\n",
    "new=eval(x_str)\n",
    "print(x_str)\n",
    "print(type(x_str))\n",
    "print(\" \")\n",
    "print(new)\n",
    "print(type(new))\n"
   ]
  },
  {
   "cell_type": "markdown",
   "metadata": {},
   "source": [
    "# Using both __repr__  and __str__ in the class"
   ]
  },
  {
   "cell_type": "code",
   "execution_count": 34,
   "metadata": {},
   "outputs": [
    {
     "name": "stdout",
     "output_type": "stream",
     "text": [
      "Name : ashish, Year: 1995\n",
      "<class 'str'>\n",
      " \n",
      "Robot ('ashish',1995 )\n",
      " \n",
      "Name : ashish, Year: 1995\n"
     ]
    }
   ],
   "source": [
    "class Robot:\n",
    "    def __init__(self, name, year):\n",
    "        self.name=name\n",
    "        self.year=year\n",
    "    def __repr__(self):\n",
    "        return \"Robot ('\" + self.name + \"',\" + str(self.year)+ \" )\"\n",
    "    \n",
    "    def __str__(self):\n",
    "        return \"Name : \" + self.name + \", Year: \" + str(self.year)\n",
    "\n",
    "    \n",
    "x=Robot('ashish',1995)\n",
    "x_str=str(x)\n",
    "print(x_str)\n",
    "print(type(x_str))\n",
    "\n",
    "#new= eval(x_str)\n",
    "\n",
    "# print(\" \")\n",
    "# print(new)\n",
    "# print(type(new))\n",
    "\n",
    "print(\" \")\n",
    "x_repr = repr(x)\n",
    "new=eval(x_repr)\n",
    "\n",
    "print(x_repr)\n",
    "print(\" \")\n",
    "print(new)"
   ]
  },
  {
   "cell_type": "markdown",
   "metadata": {},
   "source": [
    "# Use of __repr__ ,  __str__  and eval(__repr__)\n",
    "## eval of repr gives an str equivalent as the output which has better readiability"
   ]
  },
  {
   "cell_type": "code",
   "execution_count": 40,
   "metadata": {},
   "outputs": [
    {
     "name": "stdout",
     "output_type": "stream",
     "text": [
      "datetime.datetime(2019, 6, 26, 0, 56, 54, 287181)\n",
      "2019-06-26 00:56:54.287181\n"
     ]
    }
   ],
   "source": [
    "import datetime\n",
    "import datetime\n",
    "\n",
    "today = datetime.datetime.now()\n",
    "# str_s = str(today)\n",
    "# eval(str_s)\n",
    "\n",
    "repr_s = repr(today)\n",
    "print(repr_s)\n",
    "test=eval(repr_s)\n",
    "print(test)"
   ]
  },
  {
   "cell_type": "markdown",
   "metadata": {},
   "source": [
    "# Private Protected and Public"
   ]
  },
  {
   "cell_type": "code",
   "execution_count": 43,
   "metadata": {},
   "outputs": [],
   "source": [
    "class Robot:\n",
    "    def __init__(self):\n",
    "        self.name1 = \"variable name1 is public\"\n",
    "        self._name2 = \"variable name2 is protected\"\n",
    "        self.__name3 = \"variable name3 is private\"\n",
    "        "
   ]
  },
  {
   "cell_type": "code",
   "execution_count": 51,
   "metadata": {},
   "outputs": [
    {
     "name": "stdout",
     "output_type": "stream",
     "text": [
      "variable name1 public able to change value\n",
      "variable name2 protected lets try to change value\n"
     ]
    },
    {
     "ename": "AttributeError",
     "evalue": "'Robot' object has no attribute '__name3'",
     "output_type": "error",
     "traceback": [
      "\u001b[0;31m---------------------------------------------------------------------------\u001b[0m",
      "\u001b[0;31mAttributeError\u001b[0m                            Traceback (most recent call last)",
      "\u001b[0;32m<ipython-input-51-02eef7228a72>\u001b[0m in \u001b[0;36m<module>\u001b[0;34m\u001b[0m\n\u001b[1;32m      4\u001b[0m \u001b[0mx\u001b[0m\u001b[0;34m.\u001b[0m\u001b[0m_name2\u001b[0m \u001b[0;34m=\u001b[0m \u001b[0mx\u001b[0m\u001b[0;34m.\u001b[0m\u001b[0m_name2\u001b[0m\u001b[0;34m+\u001b[0m \u001b[0;34m' lets try to change value'\u001b[0m\u001b[0;34m\u001b[0m\u001b[0;34m\u001b[0m\u001b[0m\n\u001b[1;32m      5\u001b[0m \u001b[0mprint\u001b[0m\u001b[0;34m(\u001b[0m\u001b[0mx\u001b[0m\u001b[0;34m.\u001b[0m\u001b[0m_name2\u001b[0m\u001b[0;34m)\u001b[0m\u001b[0;34m\u001b[0m\u001b[0;34m\u001b[0m\u001b[0m\n\u001b[0;32m----> 6\u001b[0;31m \u001b[0mx\u001b[0m\u001b[0;34m.\u001b[0m\u001b[0m__name3\u001b[0m \u001b[0;34m=\u001b[0m \u001b[0mx\u001b[0m\u001b[0;34m.\u001b[0m\u001b[0m__name3\u001b[0m\u001b[0;34m+\u001b[0m\u001b[0;34m'lets again try to change value'\u001b[0m\u001b[0;34m\u001b[0m\u001b[0;34m\u001b[0m\u001b[0m\n\u001b[0m",
      "\u001b[0;31mAttributeError\u001b[0m: 'Robot' object has no attribute '__name3'"
     ]
    }
   ],
   "source": [
    "x=Robot()\n",
    "x.name1 = x.name1+' able to change value'\n",
    "print(x.name1)\n",
    "x._name2 = x._name2+ ' lets try to change value'\n",
    "print(x._name2)\n",
    "x.__name3 = x.__name3+'lets again try to change value'\n"
   ]
  },
  {
   "cell_type": "code",
   "execution_count": 24,
   "metadata": {},
   "outputs": [
    {
     "name": "stdout",
     "output_type": "stream",
     "text": [
      "Name : Ashish, Year : 1995\n",
      "Name : XYZ, Year : 1990\n",
      "Name :  Ashish , Year : 1995\n",
      "1947\n",
      "Ashish(public) Ashish(protected)\n"
     ]
    },
    {
     "ename": "AttributeError",
     "evalue": "'Robot' object has no attribute '__name'",
     "output_type": "error",
     "traceback": [
      "\u001b[0;31m---------------------------------------------------------------------------\u001b[0m",
      "\u001b[0;31mAttributeError\u001b[0m                            Traceback (most recent call last)",
      "\u001b[0;32m<ipython-input-24-1b7919039a0d>\u001b[0m in \u001b[0;36m<module>\u001b[0;34m\u001b[0m\n\u001b[1;32m     29\u001b[0m \u001b[0mprint\u001b[0m\u001b[0;34m(\u001b[0m\u001b[0mp1\u001b[0m\u001b[0;34m.\u001b[0m\u001b[0mget_year\u001b[0m\u001b[0;34m(\u001b[0m\u001b[0mp1\u001b[0m\u001b[0;34m.\u001b[0m\u001b[0mchange_year\u001b[0m\u001b[0;34m(\u001b[0m\u001b[0;36m1947\u001b[0m\u001b[0;34m)\u001b[0m\u001b[0;34m)\u001b[0m\u001b[0;34m)\u001b[0m\u001b[0;34m\u001b[0m\u001b[0;34m\u001b[0m\u001b[0m\n\u001b[1;32m     30\u001b[0m \u001b[0mprint\u001b[0m\u001b[0;34m(\u001b[0m\u001b[0mp1\u001b[0m\u001b[0;34m.\u001b[0m\u001b[0mname\u001b[0m\u001b[0;34m,\u001b[0m\u001b[0mp1\u001b[0m\u001b[0;34m.\u001b[0m\u001b[0m_name\u001b[0m\u001b[0;34m)\u001b[0m\u001b[0;34m\u001b[0m\u001b[0;34m\u001b[0m\u001b[0m\n\u001b[0;32m---> 31\u001b[0;31m \u001b[0mprint\u001b[0m\u001b[0;34m(\u001b[0m\u001b[0mp1\u001b[0m\u001b[0;34m.\u001b[0m\u001b[0mname\u001b[0m\u001b[0;34m,\u001b[0m\u001b[0mp1\u001b[0m\u001b[0;34m.\u001b[0m\u001b[0m_name\u001b[0m\u001b[0;34m,\u001b[0m\u001b[0mp1\u001b[0m\u001b[0;34m.\u001b[0m\u001b[0m__name\u001b[0m\u001b[0;34m)\u001b[0m\u001b[0;34m\u001b[0m\u001b[0;34m\u001b[0m\u001b[0m\n\u001b[0m",
      "\u001b[0;31mAttributeError\u001b[0m: 'Robot' object has no attribute '__name'"
     ]
    }
   ],
   "source": [
    "class Robot:\n",
    "    def __init__(self,name,year):\n",
    "        self.__name=name\n",
    "        self.name=name+'(public)'\n",
    "        self._name=name+'(protected)'\n",
    "        self.__year=year\n",
    "    def introduce(self):\n",
    "        print(\"Hello I am {} and I was born in the year {}\".format(self.__name,self.__year))\n",
    "    def change_name(self,name):\n",
    "        self.__name=name\n",
    "    def change_year(self,y):\n",
    "        self.__year=y\n",
    "    def get_name(self):\n",
    "        return self.__name\n",
    "    def get_year(self,y):\n",
    "        return self.__year\n",
    "    def __repr__(self):\n",
    "        return \"Robot (' \" + self.__name + \" ' , \" + str(self.__year) + \")\"\n",
    "    def __str__(self):\n",
    "        return \"Name : \" + self.__name + \", Year : \" + str(self.__year)   \n",
    "\n",
    "p1=Robot('Ashish',1995)\n",
    "p2=Robot('XYZ', 1990)\n",
    "x1=str(p1)\n",
    "x2=str(p2)\n",
    "print(x1)\n",
    "print(x2)\n",
    "print(eval(repr(p1)))\n",
    "print(p1.get_year(p1.change_year(1947)))\n",
    "print(p1.name,p1._name)\n",
    "print(p1.name,p1._name,p1.__name)"
   ]
  },
  {
   "cell_type": "markdown",
   "metadata": {},
   "source": [
    "# Getter and setters to access private attributes"
   ]
  },
  {
   "cell_type": "code",
   "execution_count": 56,
   "metadata": {},
   "outputs": [
    {
     "name": "stdout",
     "output_type": "stream",
     "text": [
      "None\n",
      "None\n",
      "class_itself\n",
      "1990\n"
     ]
    }
   ],
   "source": [
    "class A():\n",
    "    \n",
    "    def __init__(self, x=None, y=None):\n",
    "        self.__x = x\n",
    "        self.__y = y\n",
    "\n",
    "    def GetX(self):\n",
    "        return self.__x\n",
    "\n",
    "    def GetY(self):\n",
    "        return self.__y\n",
    "\n",
    "    def SetX(self, x):\n",
    "        self.__x = x\n",
    "\n",
    "    def SetY(self, y):\n",
    "        self.__y = y\n",
    "obj1=A('ashish',1957)\n",
    "obj2=A('XYZ',1982)\n",
    "obj1.SetX('ashish1')\n",
    "obj2.SetX('XYZ1')\n",
    "obj1.GetX()\n",
    "obj1.GetY()\n",
    "\n",
    "obj3=A()\n",
    "A=A()\n",
    "A.SetX('class_itself')\n",
    "A.SetY(1990)\n",
    "\n",
    "print(obj3.GetX())\n",
    "print(obj3.GetY())\n",
    "\n",
    "\n",
    "print(A.GetX())\n",
    "print(A.GetY())\n"
   ]
  },
  {
   "cell_type": "code",
   "execution_count": null,
   "metadata": {},
   "outputs": [],
   "source": [
    "class testclass():\n",
    "    p1=5\n",
    "    p2=7\n",
    "    def __init__(self, x=None, y=None):\n",
    "        self.x = x\n",
    "        self.y = y\n",
    "\n",
    "    def GetX(self):\n",
    "        return self.x\n",
    "\n",
    "    def GetY(self):\n",
    "        return self.y\n",
    "\n",
    "    def SetX(self, x):\n",
    "        self.x = x\n",
    "\n",
    "    def SetY(self, y):\n",
    "        self.y = y\n",
    "obj1=testclass('ashish',1957)\n",
    "obj2=testclass('XYZ',1982)\n",
    "obj1.SetX('ashish1')\n",
    "obj2.SetX('XYZ1')\n",
    "obj1.GetX()\n",
    "obj1.GetY()\n",
    "\n",
    "obj3=testclass('obj3', 1989)\n",
    "\n",
    "\n",
    "print(obj3.GetX())\n",
    "print(obj3.GetY())\n",
    "print(\" \")\n",
    "\n",
    "\n",
    "obj4=testclass('obj4', 1999)\n",
    "\n",
    "print(obj4.GetX())\n",
    "print(obj4.GetY())\n",
    "print(\" \")\n",
    "\n",
    "obj4.p1=8\n",
    "\n",
    "print(obj4.p1)\n",
    "\n",
    "testclass.p1=7\n",
    "\n",
    "obj4=testclass('obj4', 1999)\n",
    "http://localhost:8888/notebooks/Desktop/Desktop_files/Python_scratch_practice.ipynb#\n",
    "print(\"-------------\")\n",
    "\n",
    "print(testclass.p1)\n",
    "print(obj4.p1)\n",
    "print(obj3.p1)"
   ]
  },
  {
   "cell_type": "markdown",
   "metadata": {},
   "source": [
    "# Counting number of class instances"
   ]
  },
  {
   "cell_type": "code",
   "execution_count": 42,
   "metadata": {},
   "outputs": [],
   "source": [
    "def testclass():\n",
    "    __count=0\n",
    "    \n",
    "    def __init__(self):\n",
    "        type(self).__count+=1\n",
    "    def __del__(self):\n",
    "        type(self).__count-=1\n",
    "    def print_instances(self):\n",
    "        return testclass.__count"
   ]
  },
  {
   "cell_type": "code",
   "execution_count": 43,
   "metadata": {},
   "outputs": [
    {
     "ename": "AttributeError",
     "evalue": "'NoneType' object has no attribute 'print_instances'",
     "output_type": "error",
     "traceback": [
      "\u001b[0;31m---------------------------------------------------------------------------\u001b[0m",
      "\u001b[0;31mAttributeError\u001b[0m                            Traceback (most recent call last)",
      "\u001b[0;32m<ipython-input-43-b780f1fca185>\u001b[0m in \u001b[0;36m<module>\u001b[0;34m\u001b[0m\n\u001b[1;32m      1\u001b[0m \u001b[0mx\u001b[0m\u001b[0;34m=\u001b[0m\u001b[0mtestclass\u001b[0m\u001b[0;34m(\u001b[0m\u001b[0;34m)\u001b[0m\u001b[0;34m\u001b[0m\u001b[0;34m\u001b[0m\u001b[0m\n\u001b[0;32m----> 2\u001b[0;31m \u001b[0mprint\u001b[0m\u001b[0;34m(\u001b[0m\u001b[0mx\u001b[0m\u001b[0;34m.\u001b[0m\u001b[0mprint_instances\u001b[0m\u001b[0;34m(\u001b[0m\u001b[0;34m)\u001b[0m\u001b[0;34m)\u001b[0m\u001b[0;34m\u001b[0m\u001b[0;34m\u001b[0m\u001b[0m\n\u001b[0m",
      "\u001b[0;31mAttributeError\u001b[0m: 'NoneType' object has no attribute 'print_instances'"
     ]
    }
   ],
   "source": [
    "x=testclass()\n",
    "print(x.print_instances())"
   ]
  }
 ],
 "metadata": {
  "kernelspec": {
   "display_name": "Python 3",
   "language": "python",
   "name": "python3"
  },
  "language_info": {
   "codemirror_mode": {
    "name": "ipython",
    "version": 3
   },
   "file_extension": ".py",
   "mimetype": "text/x-python",
   "name": "python",
   "nbconvert_exporter": "python",
   "pygments_lexer": "ipython3",
   "version": "3.7.1"
  }
 },
 "nbformat": 4,
 "nbformat_minor": 2
}
